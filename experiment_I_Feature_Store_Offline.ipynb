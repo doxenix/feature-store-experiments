{
  "nbformat": 4,
  "nbformat_minor": 0,
  "metadata": {
    "colab": {
      "provenance": [],
      "machine_shape": "hm"
    },
    "kernelspec": {
      "name": "python3",
      "display_name": "Python 3"
    },
    "language_info": {
      "name": "python"
    },
    "gpuClass": "standard",
    "accelerator": "TPU"
  },
  "cells": [
    {
      "cell_type": "markdown",
      "source": [
        "# Experiment - Does Feature Store will load traning data faster than rerunning Feature Enigineering NB?\n",
        "\n",
        "\n",
        "\n",
        "*   **Objective of the experiment:** Check does FEAST Featrue Store will load data faster than rerunning Feature Enigineering NB each time?\n",
        "*   **Scenario:** Let's assume that Data Scientist - Mark created NB with Feature Engineering in order to create trainning data set. Prepared data looks good and he's ready to experiment with model, but it takes some time. Each day, he runs that NB to create features. Wouldn't it be better to push features into Feature Store?\n",
        "\n"
      ],
      "metadata": {
        "id": "VgbQQSVH78Hi"
      }
    },
    {
      "cell_type": "markdown",
      "source": [
        "### Preparing steps for experiment A:\n",
        "\n",
        "\n",
        "*   Download raw data and repo with code\n",
        "*   Installing requaired liblaries\n",
        "*   Converting Feature_engineering NB to python script\n",
        "\n"
      ],
      "metadata": {
        "id": "377Os6dWBLUl"
      }
    },
    {
      "cell_type": "code",
      "execution_count": null,
      "metadata": {
        "colab": {
          "base_uri": "https://localhost:8080/"
        },
        "id": "fUopcT328-o6",
        "outputId": "69ff7126-9ef8-4f5e-a64a-02b4a213e635"
      },
      "outputs": [
        {
          "output_type": "stream",
          "name": "stdout",
          "text": [
            "Cloning into 'airflow-test'...\n",
            "remote: Enumerating objects: 86, done.\u001b[K\n",
            "remote: Counting objects: 100% (86/86), done.\u001b[K\n",
            "remote: Compressing objects: 100% (63/63), done.\u001b[K\n",
            "remote: Total 86 (delta 18), reused 7 (delta 0), pack-reused 0\u001b[K\n",
            "Unpacking objects: 100% (86/86), 35.02 KiB | 919.00 KiB/s, done.\n"
          ]
        }
      ],
      "source": [
        "!git clone https://github.com/doxenix/feature-store-experiments.git"
      ]
    },
    {
      "cell_type": "code",
      "source": [
        "!pip install category_encoders==2.6.0 -q\n",
        "!pip install feast==0.29 -q\n",
        "!pip install typeguard==2.13.3 -q #workaround for feast v.0.29"
      ],
      "metadata": {
        "colab": {
          "base_uri": "https://localhost:8080/"
        },
        "id": "bb_0tFH4A1pa",
        "outputId": "a170fcea-8246-4e55-edc3-ac60210075b7"
      },
      "execution_count": null,
      "outputs": [
        {
          "output_type": "stream",
          "name": "stdout",
          "text": [
            "\u001b[2K     \u001b[90m━━━━━━━━━━━━━━━━━━━━━━━━━━━━━━━━━━━━━━━━\u001b[0m \u001b[32m81.2/81.2 KB\u001b[0m \u001b[31m2.8 MB/s\u001b[0m eta \u001b[36m0:00:00\u001b[0m\n",
            "\u001b[2K     \u001b[90m━━━━━━━━━━━━━━━━━━━━━━━━━━━━━━━━━━━━━━━━\u001b[0m \u001b[32m29.8/29.8 MB\u001b[0m \u001b[31m47.3 MB/s\u001b[0m eta \u001b[36m0:00:00\u001b[0m\n",
            "\u001b[2K     \u001b[90m━━━━━━━━━━━━━━━━━━━━━━━━━━━━━━━━━━━━━━\u001b[0m \u001b[32m110.5/110.5 KB\u001b[0m \u001b[31m12.0 MB/s\u001b[0m eta \u001b[36m0:00:00\u001b[0m\n",
            "\u001b[2K     \u001b[90m━━━━━━━━━━━━━━━━━━━━━━━━━━━━━━━━━━━━━━━━\u001b[0m \u001b[32m57.1/57.1 KB\u001b[0m \u001b[31m6.1 MB/s\u001b[0m eta \u001b[36m0:00:00\u001b[0m\n",
            "\u001b[2K     \u001b[90m━━━━━━━━━━━━━━━━━━━━━━━━━━━━━━━━━━━━━━━━\u001b[0m \u001b[32m71.5/71.5 KB\u001b[0m \u001b[31m8.2 MB/s\u001b[0m eta \u001b[36m0:00:00\u001b[0m\n",
            "\u001b[2K     \u001b[90m━━━━━━━━━━━━━━━━━━━━━━━━━━━━━━━━━━━━━━━━\u001b[0m \u001b[32m57.8/57.8 KB\u001b[0m \u001b[31m6.8 MB/s\u001b[0m eta \u001b[36m0:00:00\u001b[0m\n",
            "\u001b[2K     \u001b[90m━━━━━━━━━━━━━━━━━━━━━━━━━━━━━━━━━━━━━━━━\u001b[0m \u001b[32m2.7/2.7 MB\u001b[0m \u001b[31m73.8 MB/s\u001b[0m eta \u001b[36m0:00:00\u001b[0m\n",
            "\u001b[2K     \u001b[90m━━━━━━━━━━━━━━━━━━━━━━━━━━━━━━━━━━━━━━━━\u001b[0m \u001b[32m29.4/29.4 MB\u001b[0m \u001b[31m50.7 MB/s\u001b[0m eta \u001b[36m0:00:00\u001b[0m\n",
            "\u001b[?25h  Preparing metadata (setup.py) ... \u001b[?25l\u001b[?25hdone\n",
            "\u001b[2K     \u001b[90m━━━━━━━━━━━━━━━━━━━━━━━━━━━━━━━━━━━━━━━━\u001b[0m \u001b[32m66.9/66.9 KB\u001b[0m \u001b[31m7.0 MB/s\u001b[0m eta \u001b[36m0:00:00\u001b[0m\n",
            "\u001b[2K     \u001b[90m━━━━━━━━━━━━━━━━━━━━━━━━━━━━━━━━━━━━━━\u001b[0m \u001b[32m302.4/302.4 KB\u001b[0m \u001b[31m26.2 MB/s\u001b[0m eta \u001b[36m0:00:00\u001b[0m\n",
            "\u001b[2K     \u001b[90m━━━━━━━━━━━━━━━━━━━━━━━━━━━━━━━━━━━━━━━━\u001b[0m \u001b[32m69.6/69.6 KB\u001b[0m \u001b[31m7.3 MB/s\u001b[0m eta \u001b[36m0:00:00\u001b[0m\n",
            "\u001b[2K     \u001b[90m━━━━━━━━━━━━━━━━━━━━━━━━━━━━━━━━━━━━━━\u001b[0m \u001b[32m191.6/191.6 KB\u001b[0m \u001b[31m16.5 MB/s\u001b[0m eta \u001b[36m0:00:00\u001b[0m\n",
            "\u001b[2K     \u001b[90m━━━━━━━━━━━━━━━━━━━━━━━━━━━━━━━━━━━━━━━━\u001b[0m \u001b[32m12.1/12.1 MB\u001b[0m \u001b[31m73.2 MB/s\u001b[0m eta \u001b[36m0:00:00\u001b[0m\n",
            "\u001b[2K     \u001b[90m━━━━━━━━━━━━━━━━━━━━━━━━━━━━━━━━━━━━━━━━\u001b[0m \u001b[32m58.3/58.3 KB\u001b[0m \u001b[31m6.6 MB/s\u001b[0m eta \u001b[36m0:00:00\u001b[0m\n",
            "\u001b[2K     \u001b[90m━━━━━━━━━━━━━━━━━━━━━━━━━━━━━━━━━━━━━━\u001b[0m \u001b[32m129.5/129.5 KB\u001b[0m \u001b[31m13.6 MB/s\u001b[0m eta \u001b[36m0:00:00\u001b[0m\n",
            "\u001b[2K     \u001b[90m━━━━━━━━━━━━━━━━━━━━━━━━━━━━━━━━━━━━━━\u001b[0m \u001b[32m417.9/417.9 KB\u001b[0m \u001b[31m34.3 MB/s\u001b[0m eta \u001b[36m0:00:00\u001b[0m\n",
            "\u001b[2K     \u001b[90m━━━━━━━━━━━━━━━━━━━━━━━━━━━━━━━━━━━━━━━━\u001b[0m \u001b[32m4.2/4.2 MB\u001b[0m \u001b[31m82.9 MB/s\u001b[0m eta \u001b[36m0:00:00\u001b[0m\n",
            "\u001b[2K     \u001b[90m━━━━━━━━━━━━━━━━━━━━━━━━━━━━━━━━━━━━━━━━\u001b[0m \u001b[32m1.3/1.3 MB\u001b[0m \u001b[31m60.5 MB/s\u001b[0m eta \u001b[36m0:00:00\u001b[0m\n",
            "\u001b[2K     \u001b[90m━━━━━━━━━━━━━━━━━━━━━━━━━━━━━━━━━━━━━━\u001b[0m \u001b[32m188.3/188.3 KB\u001b[0m \u001b[31m18.2 MB/s\u001b[0m eta \u001b[36m0:00:00\u001b[0m\n",
            "\u001b[?25h  Preparing metadata (setup.py) ... \u001b[?25l\u001b[?25hdone\n",
            "\u001b[2K     \u001b[90m━━━━━━━━━━━━━━━━━━━━━━━━━━━━━━━━━━━━━━━━\u001b[0m \u001b[32m80.6/80.6 KB\u001b[0m \u001b[31m8.7 MB/s\u001b[0m eta \u001b[36m0:00:00\u001b[0m\n",
            "\u001b[?25h  Building wheel for pandavro (setup.py) ... \u001b[?25l\u001b[?25hdone\n",
            "  Building wheel for volatile (setup.py) ... \u001b[?25l\u001b[?25hdone\n",
            "\u001b[31mERROR: pip's dependency resolver does not currently take into account all the packages that are installed. This behaviour is the source of the following dependency conflicts.\n",
            "tensorflow 2.12.0 requires numpy<1.24,>=1.22, but you have numpy 1.24.2 which is incompatible.\n",
            "tensorflow-metadata 1.12.0 requires protobuf<4,>=3.13, but you have protobuf 4.22.1 which is incompatible.\u001b[0m\u001b[31m\n",
            "\u001b[0m"
          ]
        }
      ]
    },
    {
      "cell_type": "code",
      "source": [
        "!jupyter nbconvert --to python airflow-test/Feature_engineering.ipynb"
      ],
      "metadata": {
        "colab": {
          "base_uri": "https://localhost:8080/"
        },
        "id": "t9ojFQjZB2YF",
        "outputId": "2cc57715-5413-495e-c75f-828bef844eaa"
      },
      "execution_count": null,
      "outputs": [
        {
          "output_type": "stream",
          "name": "stdout",
          "text": [
            "[NbConvertApp] Converting notebook airflow-test/Feature_engineering.ipynb to python\n",
            "[NbConvertApp] Writing 11759 bytes to airflow-test/Feature_engineering.py\n"
          ]
        }
      ]
    },
    {
      "cell_type": "code",
      "source": [
        "# I'm using Google drive, but you can directly paste raw data into your own dir\n",
        "# My dir: root = '/content/drive/MyDrive/data/'\n",
        "from google.colab import drive\n",
        "drive.mount('/content/drive')"
      ],
      "metadata": {
        "colab": {
          "base_uri": "https://localhost:8080/"
        },
        "id": "SmlP8VKHBNOg",
        "outputId": "8dc05301-6beb-4bfa-b3cf-a35ea14d984b"
      },
      "execution_count": null,
      "outputs": [
        {
          "output_type": "stream",
          "name": "stdout",
          "text": [
            "Mounted at /content/drive\n"
          ]
        }
      ]
    },
    {
      "cell_type": "markdown",
      "source": [
        "### Run experiment A\n",
        "\n",
        "Solution A - rerunning NB each day"
      ],
      "metadata": {
        "id": "6BWS-_gsCqZE"
      }
    },
    {
      "cell_type": "code",
      "source": [
        "import time\n",
        "\n",
        "def test_a_solution(script_path, n_times):\n",
        "\n",
        "  test_a_results = []\n",
        "  for _ in range(n_times):\n",
        "    with open(script_path) as script:\n",
        "        start_time = time.time()\n",
        "        exec(script.read())\n",
        "        result = time.time() - start_time\n",
        "    test_a_results.append(result)\n",
        "\n",
        "  return test_a_results\n",
        "\n",
        "script_path = 'airflow-test/Feature_engineering.py'\n",
        "n_times = 10\n",
        "\n",
        "test_a_results = test_a_solution(script_path, n_times)"
      ],
      "metadata": {
        "id": "9QatwBwPA4ZQ"
      },
      "execution_count": null,
      "outputs": []
    },
    {
      "cell_type": "markdown",
      "source": [
        "### Preparing steps for experiment B:\n",
        "\n",
        "\n",
        "*   Generate dataset\n",
        "*   Create needed files for FEAST\n",
        "*   Apply FEAST repo"
      ],
      "metadata": {
        "id": "iVIbCvVYDBYc"
      }
    },
    {
      "cell_type": "code",
      "source": [
        "!mkdir -p feature_repo\n",
        "!mkdir -p feature_repo/data"
      ],
      "metadata": {
        "id": "cnLaGr7LsVpL"
      },
      "execution_count": null,
      "outputs": []
    },
    {
      "cell_type": "markdown",
      "source": [
        "We need append this code to existing Feature_engineering.py in order to generate dataset "
      ],
      "metadata": {
        "id": "kHb2R_7t-LMZ"
      }
    },
    {
      "cell_type": "code",
      "source": [
        "%%writefile -a airflow-test/Feature_engineering.py\n",
        "\n",
        "def random_dates(start, end, n):\n",
        "\n",
        "    start_u = start.value//10**9\n",
        "    end_u = end.value//10**9\n",
        "\n",
        "    timestmap_df =  pd.to_datetime(np.random.randint(start_u, end_u, n), unit='s')\n",
        "    \n",
        "    return timestmap_df\n",
        "\n",
        "\n",
        "start = pd.to_datetime('2022-01-01')\n",
        "end = pd.to_datetime('2023-01-15')\n",
        "df['event_timestamp'] = random_dates(start, end, df.shape[0])\n",
        "\n",
        "df['transaction_id'] = df.index + 1\n",
        "\n",
        "df.to_parquet('feature_repo/data/orders_data.parquet', index=False)\n",
        "df[['transaction_id', 'event_timestamp']].to_parquet('entity_df.parquet', index=False)\n"
      ],
      "metadata": {
        "colab": {
          "base_uri": "https://localhost:8080/"
        },
        "id": "9hdjPza3IPz0",
        "outputId": "46caded5-8883-4043-f53f-49fbea3a0678"
      },
      "execution_count": null,
      "outputs": [
        {
          "output_type": "stream",
          "name": "stdout",
          "text": [
            "Appending to airflow-test/Feature_engineering.py\n"
          ]
        }
      ]
    },
    {
      "cell_type": "code",
      "source": [
        "!python airflow-test/Feature_engineering.py"
      ],
      "metadata": {
        "id": "vScBFraaJP0i"
      },
      "execution_count": null,
      "outputs": []
    },
    {
      "cell_type": "code",
      "source": [
        "%%writefile feature_repo/feature_store.yaml\n",
        "project: default\n",
        "registry: data/registry.db\n",
        "provider: local\n",
        "entity_key_serialization_version: 2"
      ],
      "metadata": {
        "colab": {
          "base_uri": "https://localhost:8080/"
        },
        "id": "QwEQYN_YhCQF",
        "outputId": "f190db06-02a3-4b5b-de85-e70b8fa8be73"
      },
      "execution_count": null,
      "outputs": [
        {
          "output_type": "stream",
          "name": "stdout",
          "text": [
            "Writing feature_repo/feature_store.yaml\n"
          ]
        }
      ]
    },
    {
      "cell_type": "code",
      "source": [
        "%%writefile feature_repo/features.py\n",
        "from datetime import timedelta\n",
        "\n",
        "import pandas as pd\n",
        "\n",
        "from feast import (\n",
        "    Entity,\n",
        "    FeatureService,\n",
        "    FeatureView,\n",
        "    Field,\n",
        "    FileSource,\n",
        ")\n",
        "\n",
        "from feast.types import Float32, Float64, Int64, Int32\n",
        "from feast import FileSource\n",
        "\n",
        "\n",
        "transaction = Entity(name=\"transaction\", join_keys=[\"transaction_id\"])\n",
        "\n",
        "transaction_source = FileSource(\n",
        "    name=\"transaction_orders\",\n",
        "    path=\"/content/feature_repo/data/orders_data.parquet\",\n",
        "    event_timestamp_column=\"event_timestamp\"\n",
        ")\n",
        "\n",
        "orders_fv = FeatureView(\n",
        "    name=\"transaction_orders_fv\",\n",
        "    entities=[transaction],    \n",
        "    schema=[\n",
        "        Field(name=\"product_id\", dtype=Int32),\n",
        "        Field(name=\"total_product_orders_by_user\", dtype=Float32),\n",
        "        Field(name=\"total_product_reorders_by_user\", dtype=Float32),\n",
        "        Field(name=\"user_product_reorder_percentage\", dtype=Float32),\n",
        "        Field(name=\"avg_add_to_cart_by_user\", dtype=Float32),\n",
        "        Field(name=\"avg_days_since_last_bought\", dtype=Float32),\n",
        "        Field(name=\"last_ordered_in\", dtype=Float32),\n",
        "        Field(name=\"order_number\", dtype=Float32),\n",
        "        Field(name=\"order_dow\", dtype=Float32),\n",
        "        Field(name=\"order_hour_of_day\", dtype=Float32),\n",
        "        Field(name=\"days_since_prior_order\", dtype=Float32),\n",
        "        Field(name=\"reordered\", dtype=Float32),\n",
        "        Field(name=\"mean_add_to_cart_order\", dtype=Float32),\n",
        "        Field(name=\"total_orders\", dtype=Int32),\n",
        "        Field(name=\"total_reorders\", dtype=Int32),\n",
        "        Field(name=\"reorder_percentage\", dtype=Float32),\n",
        "        Field(name=\"unique_users\", dtype=Int32),\n",
        "        Field(name=\"order_first_time_total_cnt\", dtype=Int32),\n",
        "        Field(name=\"order_second_time_total_cnt\", dtype=Int32),\n",
        "        Field(name=\"is_organic\", dtype=Int32),\n",
        "        Field(name=\"second_time_percent\", dtype=Float32),\n",
        "        Field(name=\"aisle_mean_add_to_cart_order\", dtype=Float32), \n",
        "        Field(name=\"aisle_std_add_to_cart_order\", dtype=Float32),\n",
        "        Field(name=\"aisle_total_orders\", dtype=Int32),\n",
        "        Field(name=\"aisle_total_reorders\", dtype=Int32),\n",
        "        Field(name=\"aisle_reorder_percentage\", dtype=Float32),\n",
        "        Field(name=\"aisle_unique_users\", dtype=Int32),\n",
        "        Field(name=\"aisle_0\", dtype=Int32),\n",
        "        Field(name=\"aisle_1\", dtype=Int32),\n",
        "        Field(name=\"aisle_2\", dtype=Int32),\n",
        "        Field(name=\"aisle_3\", dtype=Int32),\n",
        "        Field(name=\"aisle_4\", dtype=Int32),\n",
        "        Field(name=\"aisle_5\", dtype=Int32),\n",
        "        Field(name=\"aisle_6\", dtype=Int32),\n",
        "        Field(name=\"aisle_7\", dtype=Int32),\n",
        "        Field(name=\"department_mean_add_to_cart_order\", dtype=Float32),\n",
        "        Field(name=\"department_std_add_to_cart_order\", dtype=Float32),\n",
        "        Field(name=\"department_total_orders\", dtype=Int32),\n",
        "        Field(name=\"department_total_reorders\", dtype=Int32),\n",
        "        Field(name=\"department_reorder_percentage\", dtype=Float32),\n",
        "        Field(name=\"department_unique_users\", dtype=Int32),\n",
        "        Field(name=\"department_0\", dtype=Int32),\n",
        "        Field(name=\"department_1\", dtype=Int32),\n",
        "        Field(name=\"department_2\", dtype=Int32),\n",
        "        Field(name=\"department_3\", dtype=Int32),\n",
        "        Field(name=\"department_4\", dtype=Int32),\n",
        "        Field(name=\"avg_dow\", dtype=Float32),\n",
        "        Field(name=\"std_dow\", dtype=Float32),\n",
        "        Field(name=\"avg_doh\", dtype=Float32),\n",
        "        Field(name=\"std_doh\", dtype=Int32),\n",
        "        Field(name=\"avg_since_order\", dtype=Float32),\n",
        "        Field(name=\"std_since_order\", dtype=Float32),\n",
        "        Field(name=\"total_orders_by_user\", dtype=Int32),\n",
        "        Field(name=\"total_products_by_user\", dtype=Int32),\n",
        "        Field(name=\"total_unique_product_by_user\", dtype=Int32),\n",
        "        Field(name=\"total_reorders_by_user\", dtype=Int32),\n",
        "        Field(name=\"reorder_propotion_by_user\", dtype=Float32),\n",
        "        Field(name=\"average_order_size\", dtype=Float32),\n",
        "        Field(name=\"reorder_in_order\", dtype=Float32),\n",
        "        Field(name=\"orders_3\", dtype=Int32),\n",
        "        Field(name=\"orders_2\", dtype=Int32),\n",
        "        Field(name=\"orders_1\", dtype=Int32),\n",
        "        Field(name=\"reorder_3\", dtype=Float32),\n",
        "        Field(name=\"reorder_2\", dtype=Float32),\n",
        "        Field(name=\"reorder_1\", dtype=Float32),  \n",
        "        Field(name=\"user_id\", dtype=Int32),\n",
        "        Field(name=\"is_reorder_3\", dtype=Int32),\n",
        "        Field(name=\"is_reorder_2\", dtype=Int32),\n",
        "        Field(name=\"is_reorder_1\", dtype=Int32)\n",
        "    ],\n",
        "    online=False,\n",
        "    source=transaction_source,\n",
        ")\n",
        "\n",
        "transaction_stats_v1 = FeatureService(\n",
        "    name=\"transaction_stats_v1\",\n",
        "    features=[orders_fv]\n",
        ")\n"
      ],
      "metadata": {
        "colab": {
          "base_uri": "https://localhost:8080/"
        },
        "id": "ebbUsRNPiP1E",
        "outputId": "8e8b2c11-65b1-42e9-caf4-f4251d9b4963"
      },
      "execution_count": null,
      "outputs": [
        {
          "output_type": "stream",
          "name": "stdout",
          "text": [
            "Writing feature_repo/features.py\n"
          ]
        }
      ]
    },
    {
      "cell_type": "code",
      "source": [
        "cd feature_repo"
      ],
      "metadata": {
        "colab": {
          "base_uri": "https://localhost:8080/"
        },
        "id": "Cdo7R8eItOLr",
        "outputId": "56e68d5b-b263-4a24-d315-df97b2d772aa"
      },
      "execution_count": null,
      "outputs": [
        {
          "output_type": "stream",
          "name": "stdout",
          "text": [
            "/content/feature_repo\n"
          ]
        }
      ]
    },
    {
      "cell_type": "code",
      "source": [
        "!feast apply"
      ],
      "metadata": {
        "colab": {
          "base_uri": "https://localhost:8080/"
        },
        "id": "oZmZ7FWPtvQU",
        "outputId": "afc6828a-95dd-48c1-cec2-4e131596f047"
      },
      "execution_count": null,
      "outputs": [
        {
          "output_type": "stream",
          "name": "stdout",
          "text": [
            "Feast is an open source project that collects anonymized error reporting and usage statistics. To opt out or learn more see https://docs.feast.dev/reference/usage\n",
            "/usr/local/lib/python3.9/dist-packages/pkg_resources/__init__.py:121: DeprecationWarning: pkg_resources is deprecated as an API\n",
            "  warnings.warn(\"pkg_resources is deprecated as an API\", DeprecationWarning)\n",
            "/usr/local/lib/python3.9/dist-packages/pkg_resources/__init__.py:2870: DeprecationWarning: Deprecated call to `pkg_resources.declare_namespace('google')`.\n",
            "Implementing implicit namespace packages (as specified in PEP 420) is preferred to `pkg_resources.declare_namespace`. See https://setuptools.pypa.io/en/latest/references/keywords.html#keyword-namespace-packages\n",
            "  declare_namespace(pkg)\n",
            "/usr/local/lib/python3.9/dist-packages/pkg_resources/__init__.py:2870: DeprecationWarning: Deprecated call to `pkg_resources.declare_namespace('google.cloud')`.\n",
            "Implementing implicit namespace packages (as specified in PEP 420) is preferred to `pkg_resources.declare_namespace`. See https://setuptools.pypa.io/en/latest/references/keywords.html#keyword-namespace-packages\n",
            "  declare_namespace(pkg)\n",
            "/usr/local/lib/python3.9/dist-packages/pkg_resources/__init__.py:2870: DeprecationWarning: Deprecated call to `pkg_resources.declare_namespace('google.logging')`.\n",
            "Implementing implicit namespace packages (as specified in PEP 420) is preferred to `pkg_resources.declare_namespace`. See https://setuptools.pypa.io/en/latest/references/keywords.html#keyword-namespace-packages\n",
            "  declare_namespace(pkg)\n",
            "/usr/local/lib/python3.9/dist-packages/pkg_resources/__init__.py:2870: DeprecationWarning: Deprecated call to `pkg_resources.declare_namespace('mpl_toolkits')`.\n",
            "Implementing implicit namespace packages (as specified in PEP 420) is preferred to `pkg_resources.declare_namespace`. See https://setuptools.pypa.io/en/latest/references/keywords.html#keyword-namespace-packages\n",
            "  declare_namespace(pkg)\n",
            "/usr/local/lib/python3.9/dist-packages/pkg_resources/__init__.py:2870: DeprecationWarning: Deprecated call to `pkg_resources.declare_namespace('sphinxcontrib')`.\n",
            "Implementing implicit namespace packages (as specified in PEP 420) is preferred to `pkg_resources.declare_namespace`. See https://setuptools.pypa.io/en/latest/references/keywords.html#keyword-namespace-packages\n",
            "  declare_namespace(pkg)\n",
            "/usr/local/lib/python3.9/dist-packages/feast/infra/offline_stores/file_source.py:161: FutureWarning: 'ParquetDataset.schema' attribute is deprecated as of pyarrow 5.0.0 and will be removed in a future version. Specify 'use_legacy_dataset=False' while constructing the ParquetDataset, and then use the '.schema' attribute instead (which will return an Arrow schema instead of a Parquet schema).\n",
            "  schema = ParquetDataset(path).schema.to_arrow_schema()\n",
            "Created entity \u001b[1m\u001b[32mtransaction\u001b[0m\n",
            "Created feature view \u001b[1m\u001b[32mtransaction_orders_fv\u001b[0m\n",
            "Created feature service \u001b[1m\u001b[32mtransaction_stats_v1\u001b[0m\n",
            "\n",
            "Created sqlite table \u001b[1m\u001b[32mdefault_transaction_orders_fv\u001b[0m\n",
            "\n"
          ]
        }
      ]
    },
    {
      "cell_type": "markdown",
      "source": [
        "### Run Experiment B\n",
        "\n",
        "Solution B - Loading data from FEAST Feature Store"
      ],
      "metadata": {
        "id": "1AnAJKgcDyIs"
      }
    },
    {
      "cell_type": "code",
      "source": [
        "import pandas as pd\n",
        "from feast import FeatureStore\n",
        "import time\n",
        "\n",
        "def get_data_from_fs(entity_df_path, feature_service_name):\n",
        "    store = FeatureStore(repo_path=\".\")\n",
        "    feature_service = store.get_feature_service(feature_service_name)\n",
        "\n",
        "    entity_df = pd.read_parquet(entity_df_path)\n",
        "\n",
        "    offline_feature_data = store.get_historical_features(\n",
        "        entity_df=entity_df,\n",
        "        features=feature_service\n",
        "    ).to_df()\n",
        "\n",
        "    offline_feature_data.head()\n",
        "\n",
        "    return offline_feature_data\n",
        "\n",
        "def test_b_solution(entity_df_path, feature_service_name, n_times):\n",
        "\n",
        "  test_b_results = []\n",
        "  for _ in range(n_times):      \n",
        "    start_time = time.time()\n",
        "    get_data_from_fs(entity_df_path, feature_service_name)\n",
        "    result = time.time() - start_time\n",
        "\n",
        "    test_b_results.append(result)\n",
        "\n",
        "  return test_b_results\n",
        "\n",
        "\n",
        "entity_df_path = \"/content/entity_df.parquet\"\n",
        "feature_service_name = \"transaction_stats_v1\"\n",
        "n_times = 10\n",
        "\n",
        "test_b_results = test_b_solution(entity_df_path, feature_service_name, n_times)"
      ],
      "metadata": {
        "id": "6g3guAQ0sbOr"
      },
      "execution_count": null,
      "outputs": []
    },
    {
      "cell_type": "markdown",
      "source": [
        "## Comparing results"
      ],
      "metadata": {
        "id": "QfY2VtsnFR7j"
      }
    },
    {
      "cell_type": "code",
      "source": [
        "import matplotlib.pyplot as plt\n",
        "\n",
        "def compare_solutions(test_a_results, test_b_results):\n",
        "  fig, ax = plt.subplots()\n",
        "  bar_hight = 0.35\n",
        "  indeks = range(len(test_a_results))\n",
        "  ax.bar(indeks, test_a_results, bar_hight, label='Solution A')\n",
        "  ax.bar([i + bar_hight for i in indeks], test_b_results, bar_hight, label='Solution B')\n",
        "\n",
        "  ax.set_ylabel('Time in sec')\n",
        "  ax.set_title('Time needed to run NB to create features (Solution A)\\n vs load data from Feature Store (Solution B)')\n",
        "  ax.set_xticks([i + bar_hight for i in indeks])\n",
        "  ax.set_xticklabels([str(i+1) for i in range(len(test_a_results))])\n",
        "  ax.set_xlabel('Run ID')\n",
        "  ax.legend()\n",
        "\n",
        "  plt.show()\n",
        "\n",
        "compare_solutions(test_a_results, test_b_results)"
      ],
      "metadata": {
        "colab": {
          "base_uri": "https://localhost:8080/",
          "height": 310
        },
        "id": "wxcLDefyzCjJ",
        "outputId": "79c853f7-b02e-40d2-ba6a-dd9d7a713ca9"
      },
      "execution_count": null,
      "outputs": [
        {
          "output_type": "display_data",
          "data": {
            "text/plain": [
              "<Figure size 432x288 with 1 Axes>"
            ],
            "image/png": "[encoded data removed]"
          },
          "metadata": {
            "needs_background": "light"
          }
        }
      ]
    },
    {
      "cell_type": "code",
      "source": [
        "import pandas as pd\n",
        "df = pd.read_parquet('/content/drive/MyDrive/data/orders_data.parquet')"
      ],
      "metadata": {
        "id": "xtVGzVk55bL0"
      },
      "execution_count": null,
      "outputs": []
    },
    {
      "cell_type": "code",
      "source": [
        "important_features = ['days_since_prior_order',                      \n",
        "                      'total_product_orders_by_user',\n",
        "                      'order_number',\n",
        "                      'reorder_propotion_by_user',\n",
        "                      'second_time_percent',\n",
        "                      'total_unique_product_by_user',\n",
        "                      'last_ordered_in',\n",
        "                      'avg_since_order',\n",
        "                      'reorder_percentage',\n",
        "                      'average_order_size']\n",
        "\n",
        "def save_df_with_important_features(features_list, df):\n",
        "  columns = important_features + ['user_id', 'event_timestamp']\n",
        "  df[columns].to_parquet('/content/drive/MyDrive/data/orders_data_10f.parquet', index=False)\n",
        "\n",
        "save_df_with_important_features(important_features, df)"
      ],
      "metadata": {
        "id": "RR5bDDNkTZzp"
      },
      "execution_count": null,
      "outputs": []
    },
    {
      "cell_type": "code",
      "source": [
        "df['user_id'].max()"
      ],
      "metadata": {
        "colab": {
          "base_uri": "https://localhost:8080/"
        },
        "id": "EAzY78wmImNA",
        "outputId": "bb2c2606-0268-48f8-d3e2-eb35a82adbc4"
      },
      "execution_count": null,
      "outputs": [
        {
          "output_type": "execute_result",
          "data": {
            "text/plain": [
              "206209"
            ]
          },
          "metadata": {},
          "execution_count": 17
        }
      ]
    },
    {
      "cell_type": "code",
      "source": [
        "df['event_timestamp'].min()"
      ],
      "metadata": {
        "colab": {
          "base_uri": "https://localhost:8080/"
        },
        "id": "bcOKiuEf5kST",
        "outputId": "0abd6442-4012-48e2-b901-86845dd30d95"
      },
      "execution_count": null,
      "outputs": [
        {
          "output_type": "execute_result",
          "data": {
            "text/plain": [
              "Timestamp('2022-01-01 00:00:35')"
            ]
          },
          "metadata": {},
          "execution_count": 27
        }
      ]
    },
    {
      "cell_type": "code",
      "source": [
        "df['event_timestamp'].max()"
      ],
      "metadata": {
        "colab": {
          "base_uri": "https://localhost:8080/"
        },
        "id": "IKy-TDAk5tEb",
        "outputId": "04652997-0a69-4008-b8fd-a5127c618b97"
      },
      "execution_count": null,
      "outputs": [
        {
          "output_type": "execute_result",
          "data": {
            "text/plain": [
              "Timestamp('2023-01-14 23:59:48')"
            ]
          },
          "metadata": {},
          "execution_count": 28
        }
      ]
    },
    {
      "cell_type": "code",
      "source": [
        "df = df.head(1000000)\n",
        "df.to_parquet('orders_data_light.parquet')"
      ],
      "metadata": {
        "id": "BwWwIi20-if_"
      },
      "execution_count": null,
      "outputs": []
    },
    {
      "cell_type": "code",
      "source": [
        "df['user_id'].max()"
      ],
      "metadata": {
        "colab": {
          "base_uri": "https://localhost:8080/"
        },
        "id": "AEJf6IVP_rse",
        "outputId": "ebc87a2b-261b-409d-a04c-c7648cfed620"
      },
      "execution_count": null,
      "outputs": [
        {
          "output_type": "execute_result",
          "data": {
            "text/plain": [
              "24208"
            ]
          },
          "metadata": {},
          "execution_count": 30
        }
      ]
    },
    {
      "cell_type": "code",
      "source": [
        "import numpy as np\n",
        "import matplotlib.pyplot as plt\n",
        "\n",
        "def compare_solutions(test_a_results, test_b_results, test_c_results):\n",
        "  X = np.arange(len(test_a_results))\n",
        "  ax = plt.subplot(111)\n",
        "  ax.bar(X-0.2, test_a_results.values(), width=0.2, color='b', align='center')\n",
        "  ax.bar(X, test_b_results.values(), width=0.2, color='g', align='center')\n",
        "  ax.bar(X+0.2, test_c_results.values(), width=0.2, color='r', align='center')\n",
        "  ax.legend(('Solution A', 'Solution B','Solution C'))\n",
        "  ax.set_ylabel('Time in sec')\n",
        "  ax.set_xlabel('Number of samples')\n",
        "  plt.xticks(X, test_a_results.keys())\n",
        "  plt.title(\n",
        "      \"Average respond time from Online Feature Store Python\\n SDK (Solution A) vs REST API (Solution B) vs PostgreSQL\\n - standalone (Solution C)\", \n",
        "      fontsize=17)  \n",
        "  plt.show()\n",
        "\n",
        "compare_solutions(a, b, c)  "
      ],
      "metadata": {
        "colab": {
          "base_uri": "https://localhost:8080/",
          "height": 341
        },
        "id": "FaJzWvFgjRnX",
        "outputId": "f577237e-ab27-4dab-8242-c29ae4ee35cb"
      },
      "execution_count": null,
      "outputs": [
        {
          "output_type": "display_data",
          "data": {
            "text/plain": [
              "<Figure size 432x288 with 1 Axes>"
            ],
            "image/png": "[encoded data removed]"
          },
          "metadata": {
            "needs_background": "light"
          }
        }
      ]
    }
  ]
}